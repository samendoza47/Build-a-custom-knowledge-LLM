{
 "cells": [
  {
   "cell_type": "markdown",
   "id": "f898e90c",
   "metadata": {},
   "source": [
    "## Install Required Libraries"
   ]
  },
  {
   "cell_type": "code",
   "execution_count": null,
   "id": "47b5ef03",
   "metadata": {},
   "outputs": [],
   "source": [
    "!pip install llama_index\n",
    "!pip install langchain"
   ]
  },
  {
   "cell_type": "markdown",
   "id": "1228da6c",
   "metadata": {},
   "source": [
    "## Import Libraries"
   ]
  },
  {
   "cell_type": "code",
   "execution_count": 2,
   "id": "c68ebdfe",
   "metadata": {},
   "outputs": [],
   "source": [
    "import os\n",
    "import sys\n",
    "from llama_index import (SimpleDirectoryReader, GPTListIndex, readers, GPTSimpleVectorIndex, \n",
    "                         LLMPredictor, PromptHelper,ServiceContext, download_loader)\n",
    "from langchain import OpenAI\n",
    "from IPython.display import Markdown, display"
   ]
  },
  {
   "cell_type": "code",
   "execution_count": 5,
   "id": "3bf5b9b4",
   "metadata": {},
   "outputs": [],
   "source": [
    "# add Open AI API Key\n",
    "os.environ['OPENAI_API_KEY'] = \"Your OpenAI API KEY\""
   ]
  },
  {
   "cell_type": "markdown",
   "id": "8ba85f5b",
   "metadata": {},
   "source": [
    "## Load the data \"Llama\" rich text file"
   ]
  },
  {
   "cell_type": "code",
   "execution_count": 6,
   "id": "093f71d7",
   "metadata": {},
   "outputs": [],
   "source": [
    "# Load you data into 'Documents' a custom type by LlamaIndex\n",
    "documents = SimpleDirectoryReader('./data').load_data()"
   ]
  },
  {
   "cell_type": "markdown",
   "id": "2993c2f5",
   "metadata": {},
   "source": [
    "## Create index of all documents"
   ]
  },
  {
   "cell_type": "code",
   "execution_count": 7,
   "id": "6d60c3cd",
   "metadata": {},
   "outputs": [
    {
     "name": "stderr",
     "output_type": "stream",
     "text": [
      "INFO:llama_index.token_counter.token_counter:> [build_index_from_nodes] Total LLM token usage: 0 tokens\n",
      "INFO:llama_index.token_counter.token_counter:> [build_index_from_nodes] Total embedding token usage: 1321 tokens\n"
     ]
    }
   ],
   "source": [
    "# Create an index of yuor documents\n",
    "index = GPTSimpleVectorIndex.from_documents(documents)"
   ]
  },
  {
   "cell_type": "markdown",
   "id": "4d68a405",
   "metadata": {},
   "source": [
    "## Query your index"
   ]
  },
  {
   "cell_type": "code",
   "execution_count": 8,
   "id": "4743040a",
   "metadata": {},
   "outputs": [
    {
     "name": "stderr",
     "output_type": "stream",
     "text": [
      "INFO:llama_index.token_counter.token_counter:> [query] Total LLM token usage: 1448 tokens\n",
      "INFO:llama_index.token_counter.token_counter:> [query] Total embedding token usage: 11 tokens\n"
     ]
    },
    {
     "name": "stdout",
     "output_type": "stream",
     "text": [
      "\n",
      "I think Facebook's LLaMa is a great step forward in democratizing access to large language models and advancing research in this subfield of AI. It is encouraging to see that they are making the model available at several sizes and providing a model card to detail how it was built in accordance with responsible AI practices. I am also glad to see that they are releasing the model under a noncommercial license to ensure integrity and prevent misuse.\n"
     ]
    }
   ],
   "source": [
    "response = index.query(\"What do you think of Facebook's LLaMa?\")\n",
    "print(response)"
   ]
  },
  {
   "cell_type": "markdown",
   "id": "3d3ada21",
   "metadata": {},
   "source": [
    "# Customize your LLM for different output"
   ]
  },
  {
   "cell_type": "code",
   "execution_count": 10,
   "id": "2d88b0ee",
   "metadata": {},
   "outputs": [],
   "source": [
    "\n",
    "def construct_index(directory_path):\n",
    "    \"\"\"\n",
    "    The following code defines the functions we need to construct the index and query it\n",
    "    \"\"\"\n",
    "    # set maximum input size\n",
    "    max_input_size = 4096\n",
    "    # set number of output tokens\n",
    "    num_outputs = 2000\n",
    "    # set maximum chunk overlap\n",
    "    max_chunk_overlap = 20\n",
    "    # set chunk size limit\n",
    "    chunk_size_limit = 600 \n",
    "\n",
    "    # define prompt helper\n",
    "    prompt_helper = PromptHelper(max_input_size, num_outputs, \n",
    "                                 max_chunk_overlap, \n",
    "                                 chunk_size_limit=chunk_size_limit)\n",
    "\n",
    "    # define LLM\n",
    "    llm_predictor = LLMPredictor(llm=OpenAI(temperature=0.5, \n",
    "                                            model_name=\"text-davinci-003\", \n",
    "                                            max_tokens=num_outputs))\n",
    "    \n",
    "    #documents = SimpleDirectoryReader(directory_path).load_data()\n",
    "\n",
    "    service_context = ServiceContext.from_defaults(llm_predictor= llm_predictor, \n",
    "                                                   prompt_helper= prompt_helper)\n",
    "    \n",
    "    index = GPTSimpleVectorIndex.from_documents(documents, service_context=service_context)\n",
    "\n",
    "    index.save_to_disk('index.json')\n",
    "\n",
    "    return index"
   ]
  },
  {
   "cell_type": "code",
   "execution_count": 11,
   "id": "2db06c47",
   "metadata": {},
   "outputs": [
    {
     "name": "stderr",
     "output_type": "stream",
     "text": [
      "INFO:llama_index.token_counter.token_counter:> [build_index_from_nodes] Total LLM token usage: 0 tokens\n",
      "INFO:llama_index.token_counter.token_counter:> [build_index_from_nodes] Total embedding token usage: 1321 tokens\n"
     ]
    },
    {
     "data": {
      "text/plain": [
       "<llama_index.indices.vector_store.vector_indices.GPTSimpleVectorIndex at 0x287a81a5ae0>"
      ]
     },
     "execution_count": 11,
     "metadata": {},
     "output_type": "execute_result"
    }
   ],
   "source": [
    "construct_index(\"./data\")"
   ]
  },
  {
   "cell_type": "code",
   "execution_count": null,
   "id": "f5ffa2bc",
   "metadata": {},
   "outputs": [],
   "source": []
  },
  {
   "cell_type": "code",
   "execution_count": 12,
   "id": "f9bfae78",
   "metadata": {},
   "outputs": [],
   "source": [
    "def ask_ai():\n",
    "    index = GPTSimpleVectorIndex.load_from_disk('index.json')\n",
    "    while True: \n",
    "        query = input(\"What do you want to ask? \")\n",
    "        response = index.query(query)\n",
    "        display(Markdown(f\"Response: <b>{response.response}</b>\"))"
   ]
  },
  {
   "cell_type": "code",
   "execution_count": null,
   "id": "ecc131cf",
   "metadata": {},
   "outputs": [],
   "source": [
    "ask_ai()"
   ]
  },
  {
   "cell_type": "markdown",
   "id": "76cc1bcb",
   "metadata": {},
   "source": [
    "## Using Wikipedia data "
   ]
  },
  {
   "cell_type": "code",
   "execution_count": 14,
   "id": "e7ae40a0",
   "metadata": {},
   "outputs": [],
   "source": [
    "wikipediareader = download_loader(\"WikipediaReader\")\n",
    "loader = wikipediareader()\n",
    "\n",
    "wikidocs = loader.load_data(pages=[\"Mental health\"])\n",
    "# https://en.wikipedia.org/wiki/Mental_health"
   ]
  },
  {
   "cell_type": "code",
   "execution_count": 15,
   "id": "4135c014",
   "metadata": {},
   "outputs": [
    {
     "name": "stderr",
     "output_type": "stream",
     "text": [
      "INFO:llama_index.token_counter.token_counter:> [build_index_from_nodes] Total LLM token usage: 0 tokens\n",
      "INFO:llama_index.token_counter.token_counter:> [build_index_from_nodes] Total embedding token usage: 8666 tokens\n"
     ]
    }
   ],
   "source": [
    "wiki_index = GPTSimpleVectorIndex.from_documents(wikidocs)"
   ]
  },
  {
   "cell_type": "markdown",
   "id": "f897d547",
   "metadata": {},
   "source": [
    "#### Saving the index into the disk"
   ]
  },
  {
   "cell_type": "code",
   "execution_count": null,
   "id": "cc759a6d",
   "metadata": {},
   "outputs": [],
   "source": [
    "#wiki_index.save_to_disk('mental_health.json')\n",
    "wiki_index.save_to_disk('cyberbullying.json')"
   ]
  },
  {
   "cell_type": "markdown",
   "id": "c46c2f54",
   "metadata": {},
   "source": [
    "#### Query the Mental health index"
   ]
  },
  {
   "cell_type": "code",
   "execution_count": 2,
   "id": "044adb0e",
   "metadata": {},
   "outputs": [],
   "source": [
    "mh_index = GPTSimpleVectorIndex.load_from_disk('mental_health.json')"
   ]
  },
  {
   "cell_type": "code",
   "execution_count": 17,
   "id": "8c34d9bc",
   "metadata": {},
   "outputs": [
    {
     "name": "stderr",
     "output_type": "stream",
     "text": [
      "INFO:llama_index.token_counter.token_counter:> [query] Total LLM token usage: 4028 tokens\n",
      "INFO:llama_index.token_counter.token_counter:> [query] Total embedding token usage: 10 tokens\n"
     ]
    },
    {
     "name": "stdout",
     "output_type": "stream",
     "text": [
      "\n",
      "\n",
      "Mental health is an individual's capacity to feel, think, and act in ways to achieve a better quality of life while respecting the personal, social, and cultural boundaries. It encompasses emotional, psychological, and social well-being, influencing cognition, perception, and behavior. It likewise determines how an individual handles stress, interpersonal relationships, and decision-making. Mental health includes subjective well-being, perceived self-efficacy, autonomy, competence, intergenerational dependence, and self-actualization of one's intellectual and emotional potential, among others. Mental health is associated with a number of lifestyle factors such as diet, exercise, stress, drug abuse, social connections and interactions. Mental health can be seen as a continuum, where an individual's mental health may have many different possible values. Mental wellness is viewed as a positive attribute; this definition of mental health highlights emotional well-being, the capacity to live a full and creative life, and the flexibility to deal with life's inevitable challenges. Cultural competency of deaf and hard of hearing people and the use of trained, qualified, and certified interpreters when working with culturally Deaf clients is also important to consider when discussing mental health.\n",
      "\n",
      "Research has shown that there is stigma attached to mental illness. Due\n"
     ]
    }
   ],
   "source": [
    "response = wiki_index.query(\"What is mental health and how is it defined?\")\n",
    "print(response)"
   ]
  },
  {
   "cell_type": "code",
   "execution_count": null,
   "id": "3f11a827",
   "metadata": {},
   "outputs": [],
   "source": [
    "response = mh_index.query(\"What are some common mental health disorders and what are their symptoms?\")\n",
    "print(response)"
   ]
  },
  {
   "cell_type": "code",
   "execution_count": null,
   "id": "7eab7f16",
   "metadata": {},
   "outputs": [],
   "source": [
    "response = mh_index.query(\"What are some risk factors for developing mental health disorders?\")\n",
    "print(response)"
   ]
  },
  {
   "cell_type": "code",
   "execution_count": null,
   "id": "25a246a5",
   "metadata": {},
   "outputs": [],
   "source": [
    "## More questions about Mental Health\n",
    "\"\"\"\n",
    "    1. What is mental health and how is it defined?\n",
    "    2. What are some common mental health disorders and what are their symptoms?\n",
    "    3. How does mental illness affect individuals and society as a whole?\n",
    "    4. What are some risk factors for developing mental health disorders?\n",
    "    5. What are some common treatments for mental health disorders and how effective are they?\n",
    "    6. How can individuals promote good mental health and prevent mental health disorders?\n",
    "    7. What role does stigma play in mental health and how can it be addressed?\n",
    "    8. How do cultural and societal factors impact mental health?\n",
    "    9. What resources are available for individuals who are struggling with mental health issues?\n",
    "    10. What are some current challenges and advancements in the field of mental health research and treatment?\n",
    "\"\"\"\n"
   ]
  },
  {
   "cell_type": "markdown",
   "id": "85a4cfca",
   "metadata": {},
   "source": [
    "#### Query the CyberBullying index"
   ]
  },
  {
   "cell_type": "code",
   "execution_count": 4,
   "id": "58ed88d5",
   "metadata": {},
   "outputs": [],
   "source": [
    "cb_index = GPTSimpleVectorIndex.load_from_disk('cyberbullying.json')"
   ]
  },
  {
   "cell_type": "code",
   "execution_count": 5,
   "id": "8cb0efee",
   "metadata": {},
   "outputs": [
    {
     "name": "stderr",
     "output_type": "stream",
     "text": [
      "INFO:llama_index.token_counter.token_counter:> [query] Total LLM token usage: 3942 tokens\n",
      "INFO:llama_index.token_counter.token_counter:> [query] Total embedding token usage: 14 tokens\n"
     ]
    },
    {
     "name": "stdout",
     "output_type": "stream",
     "text": [
      "\n",
      "\n",
      "Cyberbullying is a form of bullying or harassment that takes place using electronic means, such as the internet, social media, and mobile phones. It is similar to traditional bullying in that it involves an intent to harm, and is often repeated behavior. However, cyberbullying is different in that it can be anonymous, and the content used to harass the victim can be spread and shared easily among many people and often remains accessible long after the initial incident. Cyberbullying can also take place through gaming, search engines, and other digital spaces. Examples of cyberbullying include sabotaging rival crowdfunding campaigns, swatting in games such as Call of Duty and League of Legends, and using Google bombs to increase the prominence of favored posts. Victims of cyberbullying may experience lower self-esteem, increased suicidal ideation, and various negative emotional responses, including being anxious, frustrated, angry, or depressed.\n"
     ]
    }
   ],
   "source": [
    "response = cb_index.query(\"What is cyberbullying and how is it different from traditional bullying?\")\n",
    "print(response)"
   ]
  },
  {
   "cell_type": "code",
   "execution_count": null,
   "id": "a09579e6",
   "metadata": {},
   "outputs": [],
   "source": [
    "response = cb_index.query(\"What are some examples of cyberbullying and how do they affect the victims?\")\n",
    "print(response)"
   ]
  },
  {
   "cell_type": "code",
   "execution_count": null,
   "id": "1ef92d2c",
   "metadata": {},
   "outputs": [],
   "source": [
    "response = cb_index.query(\"What are the psychological and emotional impacts of cyberbullying on the victim?\")\n",
    "print(response)"
   ]
  },
  {
   "cell_type": "code",
   "execution_count": null,
   "id": "0c063454",
   "metadata": {},
   "outputs": [],
   "source": [
    "## More questions about Cyberbulling\n",
    "\"\"\"\n",
    "1. What is cyberbullying and how is it different from traditional bullying?\n",
    "2. What are some examples of cyberbullying and how do they affect the victims?\n",
    "3. What are the psychological and emotional impacts of cyberbullying on the victim?\n",
    "4. What are some common risk factors for being a victim of cyberbullying?\n",
    "5. What role does technology play in cyberbullying and how has it evolved over time?\n",
    "6. How can parents and educators help prevent cyberbullying and support victims?\n",
    "7. What are the legal implications of cyberbullying and how is it punished by law?\n",
    "8. What is the impact of cyberbullying on mental health and wellbeing?\n",
    "9. What resources are available for individuals who are experiencing cyberbullying?\n",
    "10.What are some current challenges and advancements in addressing cyberbullying in our society?\n",
    "\n",
    "\"\"\""
   ]
  }
 ],
 "metadata": {
  "celltoolbar": "Raw Cell Format",
  "kernelspec": {
   "display_name": "Python 3 (ipykernel)",
   "language": "python",
   "name": "python3"
  },
  "language_info": {
   "codemirror_mode": {
    "name": "ipython",
    "version": 3
   },
   "file_extension": ".py",
   "mimetype": "text/x-python",
   "name": "python",
   "nbconvert_exporter": "python",
   "pygments_lexer": "ipython3",
   "version": "3.10.2"
  }
 },
 "nbformat": 4,
 "nbformat_minor": 5
}
